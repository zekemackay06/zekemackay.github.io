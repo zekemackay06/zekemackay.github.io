{
 "cells": [
  {
   "cell_type": "code",
   "execution_count": 62,
   "metadata": {},
   "outputs": [],
   "source": [
    "import csv\n",
    "import datetime\n",
    "import json\n",
    "import os"
   ]
  },
  {
   "cell_type": "code",
   "execution_count": 50,
   "metadata": {},
   "outputs": [],
   "source": [
    "with open(os.path.join('WCA_export','WCA_export_Competitions.tsv'),'r') as f:\n",
    "    r = csv.reader(f,delimiter='\\t')\n",
    "    competitions = [row for row in r]\n",
    "\n",
    "def cell(row,col):\n",
    "    try:\n",
    "        return int(row[competitions[0].index(col)])\n",
    "    except:\n",
    "        return row[competitions[0].index(col)]"
   ]
  },
  {
   "cell_type": "code",
   "execution_count": 51,
   "metadata": {},
   "outputs": [
    {
     "data": {
      "text/plain": [
       "2018"
      ]
     },
     "execution_count": 51,
     "metadata": {},
     "output_type": "execute_result"
    }
   ],
   "source": [
    "cell(competitions[1],'year')"
   ]
  },
  {
   "cell_type": "code",
   "execution_count": 69,
   "metadata": {},
   "outputs": [],
   "source": [
    "date_competitions = {}\n",
    "for row in competitions[1:]:\n",
    "    if cell(row,'year') == 2024:\n",
    "        dates = [datetime.datetime(cell(row,'year'),cell(row,'month'),cell(row,'day')),\n",
    "                 datetime.datetime(cell(row,'year'),cell(row,'endMonth'),cell(row,'endDay'))]\n",
    "        for i in range(1,7):\n",
    "            next_date = dates[0] + datetime.timedelta(days=i)\n",
    "            if next_date <= dates[1]:\n",
    "                dates.append(next_date)\n",
    "            else:\n",
    "                break\n",
    "        dates.pop(1)\n",
    "        for date in dates:\n",
    "            date_formatted = str(date.month) + '-' + str(date.day)\n",
    "            if date_formatted not in date_competitions.keys():\n",
    "                date_competitions[date_formatted] = set()\n",
    "            date_competitions[date_formatted].add(cell(row,'id'))\n",
    "date_competitions['1-1'] = {\"NewYorkNewYear2024\"}\n"
   ]
  },
  {
   "cell_type": "code",
   "execution_count": 65,
   "metadata": {},
   "outputs": [],
   "source": [
    "with open('competition_dates_24.json','w') as f:\n",
    "    json.dump(date_competitions,f)"
   ]
  },
  {
   "cell_type": "code",
   "execution_count": 70,
   "metadata": {},
   "outputs": [],
   "source": [
    "competition_countries = {}\n",
    "for row in competitions[1:]:\n",
    "    if cell(row,'year') == 2024 or cell(row,'id') == \"NewYorkNewYear2024\":\n",
    "        country = cell(row,'countryId')\n",
    "        if country not in competition_countries:\n",
    "            competition_countries[country] = set()\n",
    "        competition_countries[country].add(cell(row,'id'))\n"
   ]
  },
  {
   "cell_type": "code",
   "execution_count": 67,
   "metadata": {},
   "outputs": [],
   "source": [
    "with open('competition_countries_24.json','w') as f:\n",
    "    json.dump(competition_countries,f)"
   ]
  },
  {
   "cell_type": "code",
   "execution_count": 73,
   "metadata": {},
   "outputs": [],
   "source": [
    "country_counts = {}\n",
    "for country, competitions in competition_countries.items():\n",
    "    country_counts[country] = sum([1 for date in date_competitions.values() if date.intersection(competitions)])"
   ]
  },
  {
   "cell_type": "code",
   "execution_count": 74,
   "metadata": {},
   "outputs": [
    {
     "data": {
      "text/plain": [
       "[('USA', 196),\n",
       " ('Sweden', 110),\n",
       " ('Poland', 106),\n",
       " ('Colombia', 95),\n",
       " ('India', 92),\n",
       " ('Brazil', 92),\n",
       " ('Spain', 91),\n",
       " ('United Kingdom', 90),\n",
       " ('Australia', 88),\n",
       " ('Philippines', 77),\n",
       " ('Mexico', 70),\n",
       " ('France', 67),\n",
       " ('Canada', 65),\n",
       " ('Italy', 61),\n",
       " ('Germany', 60),\n",
       " ('Finland', 54),\n",
       " ('Norway', 51),\n",
       " ('Denmark', 50),\n",
       " ('New Zealand', 48),\n",
       " ('Indonesia', 46),\n",
       " ('Switzerland', 44),\n",
       " ('Peru', 42),\n",
       " ('Thailand', 42),\n",
       " ('Turkey', 40),\n",
       " ('Chile', 40),\n",
       " ('Ireland', 37),\n",
       " ('South Africa', 36),\n",
       " ('Argentina', 34),\n",
       " ('China', 33),\n",
       " ('Bolivia', 33),\n",
       " ('Romania', 32),\n",
       " ('Ukraine', 30),\n",
       " ('Malaysia', 29),\n",
       " ('Singapore', 29),\n",
       " ('Taiwan', 27),\n",
       " ('Israel', 25),\n",
       " ('Czech Republic', 24),\n",
       " ('Korea', 23),\n",
       " ('Netherlands', 22),\n",
       " ('Belgium', 22),\n",
       " ('Hungary', 21),\n",
       " ('Ecuador', 20),\n",
       " ('Greece', 18),\n",
       " ('Estonia', 18),\n",
       " ('Bulgaria', 17),\n",
       " ('Vietnam', 17),\n",
       " ('Slovakia', 17),\n",
       " ('Kazakhstan', 16),\n",
       " ('Uruguay', 15),\n",
       " ('Portugal', 13),\n",
       " ('Slovenia', 13),\n",
       " ('Latvia', 12),\n",
       " ('Croatia', 11),\n",
       " ('Venezuela', 11),\n",
       " ('Mongolia', 11),\n",
       " ('Georgia', 11),\n",
       " ('Serbia', 10),\n",
       " ('Paraguay', 10),\n",
       " ('Austria', 10),\n",
       " ('Panama', 10),\n",
       " ('Iran', 9),\n",
       " ('Kyrgyzstan', 8),\n",
       " ('XE', 8),\n",
       " ('Sri Lanka', 8),\n",
       " ('Uzbekistan', 8),\n",
       " ('Japan', 7),\n",
       " ('Kenya', 6),\n",
       " ('Costa Rica', 6),\n",
       " ('Hong Kong', 6),\n",
       " ('Bosnia and Herzegovina', 5),\n",
       " ('Bangladesh', 5),\n",
       " ('Armenia', 5),\n",
       " ('El Salvador', 5),\n",
       " ('Kuwait', 5),\n",
       " ('Iceland', 5),\n",
       " ('Guatemala', 5),\n",
       " ('Azerbaijan', 4),\n",
       " ('Cyprus', 4),\n",
       " ('Lithuania', 4),\n",
       " ('Angola', 3),\n",
       " ('XW', 3),\n",
       " ('Nigeria', 2),\n",
       " ('XS', 2),\n",
       " ('Bahrain', 2),\n",
       " ('Andorra', 2),\n",
       " ('Madagascar', 2),\n",
       " ('United Arab Emirates', 2),\n",
       " ('Egypt', 2),\n",
       " ('Jordan', 2),\n",
       " ('Nepal', 2),\n",
       " ('Luxembourg', 2),\n",
       " ('Montenegro', 2),\n",
       " ('Morocco', 2),\n",
       " ('Dominican Republic', 2),\n",
       " ('Cambodia', 1),\n",
       " ('Honduras', 1),\n",
       " ('Laos', 1),\n",
       " ('Malta', 1),\n",
       " ('Mauritius', 1),\n",
       " ('XO', 1),\n",
       " ('Pakistan', 1),\n",
       " ('San Marino', 1)]"
      ]
     },
     "execution_count": 74,
     "metadata": {},
     "output_type": "execute_result"
    }
   ],
   "source": [
    "sorted(country_counts.items(),key=lambda l: -l[1])"
   ]
  }
 ],
 "metadata": {
  "kernelspec": {
   "display_name": "base",
   "language": "python",
   "name": "python3"
  },
  "language_info": {
   "codemirror_mode": {
    "name": "ipython",
    "version": 3
   },
   "file_extension": ".py",
   "mimetype": "text/x-python",
   "name": "python",
   "nbconvert_exporter": "python",
   "pygments_lexer": "ipython3",
   "version": "3.10.12"
  }
 },
 "nbformat": 4,
 "nbformat_minor": 2
}
